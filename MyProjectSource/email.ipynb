{
 "cells": [
  {
   "cell_type": "markdown",
   "metadata": {},
   "source": [
    "first initial , last name \n",
    "\n",
    "etc"
   ]
  },
  {
   "cell_type": "code",
   "execution_count": 1,
   "metadata": {},
   "outputs": [
    {
     "data": {
      "text/plain": [
       "'!\"#$%&\\'()*+,-./:;<=>?@[\\\\]^_`{|}~'"
      ]
     },
     "execution_count": 1,
     "metadata": {},
     "output_type": "execute_result"
    }
   ],
   "source": [
    "from string import punctuation\n",
    "\n",
    "punctuation\n"
   ]
  },
  {
   "cell_type": "markdown",
   "metadata": {},
   "source": [
    "def get_punt(email_prefix):\n",
    "    punct_return = None\n",
    "    for punct in puncuation:\n",
    "        if punct in email_prefix:\n",
    "            punct_return = punct\n",
    "    return punct_return"
   ]
  },
  {
   "cell_type": "markdown",
   "metadata": {},
   "source": [
    "def pattern_match( first, last, email):\n",
    "    first = first.lower()\n",
    "    last = last.lower()\n",
    "    email_prefix = email.lower().split('@')[0]\n",
    "\n",
    "    punct = get_punct(email_prefix)\n",
    "\n",
    "    if punct:\n",
    "        if first == email_prefix[:len(first)] and last == email_prefix[-len(last):]"
   ]
  },
  {
   "cell_type": "code",
   "execution_count": null,
   "metadata": {},
   "outputs": [],
   "source": [
    "def pattern_match( first, last, email):\n",
    "    first = first.lower()\n",
    "    last = last.lower()\n",
    "    email_prefix = email.lower().split('@')[0]\n",
    "\n",
    "    punct = get_punct(email_prefix)\n",
    "\n",
    "    if punct:\n",
    "        if first == email_prefix[:len(first)] and last == email_prefix[-len(last):]"
   ]
  }
 ],
 "metadata": {
  "kernelspec": {
   "display_name": "Python 3.10.6 64-bit",
   "language": "python",
   "name": "python3"
  },
  "language_info": {
   "codemirror_mode": {
    "name": "ipython",
    "version": 3
   },
   "file_extension": ".py",
   "mimetype": "text/x-python",
   "name": "python",
   "nbconvert_exporter": "python",
   "pygments_lexer": "ipython3",
   "version": "3.10.6"
  },
  "orig_nbformat": 4,
  "vscode": {
   "interpreter": {
    "hash": "e39d76907df4d139ebe29b9342f0dae1c7a212bd8ef80fa6576d87716ac02132"
   }
  }
 },
 "nbformat": 4,
 "nbformat_minor": 2
}
